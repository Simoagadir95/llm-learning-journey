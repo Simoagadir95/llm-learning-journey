﻿{
 "cells": [
  {
   "cell_type": "markdown",
   "metadata": {},
   "source": [
    "# 🧠 Programme LLM/SLM - Session S1-001\\n",
    "## Introduction aux Transformers\\n",
    "\\n",
    "**Date:** 21/09/2025\\n",
    "**Durée:** 30 minutes\\n",
    "**Objectif:** Comprendre l'architecture générale des transformers\\n",
    "**Environnement:** Conda - base"
   ]
  },
  {
   "cell_type": "code",
   "execution_count": null,
   "metadata": {},
   "outputs": [],
   "source": [
    "# Test de l'environnement LLM\\n",
    "import torch\\n",
    "import transformers\\n",
    "import sys\\n",
    "import os\\n",
    "\\n",
    "print('🎉 Environnement LLM prêt avec Conda!')\\n",
    "print(f'🏠 Environnement: {os.environ.get(\\\"CONDA_DEFAULT_ENV\\\", \\\"N/A\\\")}')\\n",
    "print(f'🐍 Python: {sys.version.split()[0]}')\\n",
    "print(f'✅ PyTorch: {torch.__version__}')\\n",
    "print(f'✅ Transformers: {transformers.__version__}')\\n",
    "print(f'💻 GPU disponible: {torch.cuda.is_available()}')\\n",
    "\\n",
    "if torch.cuda.is_available():\\n",
    "    print(f'🚀 GPU: {torch.cuda.get_device_name(0)}')"
   ]
  },
  {
   "cell_type": "markdown",
   "metadata": {},
   "source": [
    "## 📚 Checklist Session S1-001\\n",
    "\\n",
    "- [ ] Lire paper \\\"Attention Is All You Need\\\" (sections 1-3)\\n",
    "- [ ] Blog \\\"The Illustrated Transformer\\\" (Jay Alammar)\\n",
    "- [ ] Vidéo 3Blue1Brown (15 min)\\n",
    "- [ ] Notes concepts clés\\n",
    "- [ ] Quiz auto-évaluation (5 questions)\\n",
    "\\n",
    "## 🔗 Ressources\\n",
    "- Paper: https://arxiv.org/abs/1706.03762\\n",
    "- Blog: http://jalammar.github.io/illustrated-transformer/\\n",
    "- Vidéo: https://www.youtube.com/watch?v=eMlx5fFNoYc"
   ]
  },
  {
   "cell_type": "code",
   "execution_count": null,
   "metadata": {},
   "outputs": [],
   "source": [
    "# Premier test avec un transformer\\n",
    "from transformers import AutoTokenizer, AutoModel\\n",
    "\\n",
    "print('📦 Chargement du modèle DistilBERT...')\\n",
    "tokenizer = AutoTokenizer.from_pretrained('distilbert-base-uncased')\\n",
    "model = AutoModel.from_pretrained('distilbert-base-uncased')\\n",
    "\\n",
    "# Test simple\\n",
    "text = \\\"Hello, this is my first transformer test with Conda environment!\\\"\\n",
    "inputs = tokenizer(text, return_tensors='pt')\\n",
    "outputs = model(**inputs)\\n",
    "\\n",
    "print(f'📝 Texte: {text}')\\n",
    "print(f'🔢 Tokens: {inputs[\\\"input_ids\\\"].shape}')\\n",
    "print(f'🧠 Embeddings: {outputs.last_hidden_state.shape}')\\n",
    "print('✅ Premier transformer testé avec succès !')"
   ]
  }
 ],
 "metadata": {
  "kernelspec": {
   "display_name": "Python 3",
   "language": "python",
   "name": "python3"
  },
  "language_info": {
   "name": "python",
   "version": "3.9.0"
  }
 },
 "nbformat": 4,
 "nbformat_minor": 4
}
