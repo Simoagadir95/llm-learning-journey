{
 "cells": [
  {
   "cell_type": "markdown",
   "id": "d5e0fc54-fe3d-4d92-83f5-f82485159067",
   "metadata": {},
   "source": [
    "# 🧠 Programme LLM/SLM - Session S1-001\n",
    "## Introduction aux Transformers\n",
    "\n",
    "**Date:** 21/09/2025  \n",
    "**Durée:** 30 minutes  \n",
    "**Objectif:** Comprendre l'architecture générale des transformers  \n",
    "**Environnement:** Conda - base"
   ]
  },
  {
   "cell_type": "code",
   "execution_count": 1,
   "id": "6139a528-5eb6-4ac0-a7e9-8578975efb8d",
   "metadata": {},
   "outputs": [
    {
     "ename": "ModuleNotFoundError",
     "evalue": "No module named 'torch'",
     "output_type": "error",
     "traceback": [
      "\u001b[31m---------------------------------------------------------------------------\u001b[39m",
      "\u001b[31mModuleNotFoundError\u001b[39m                       Traceback (most recent call last)",
      "\u001b[36mCell\u001b[39m\u001b[36m \u001b[39m\u001b[32mIn[1]\u001b[39m\u001b[32m, line 2\u001b[39m\n\u001b[32m      1\u001b[39m \u001b[38;5;66;03m# Test de l'environnement LLM\u001b[39;00m\n\u001b[32m----> \u001b[39m\u001b[32m2\u001b[39m \u001b[38;5;28;01mimport\u001b[39;00m\u001b[38;5;250m \u001b[39m\u001b[34;01mtorch\u001b[39;00m\n\u001b[32m      3\u001b[39m \u001b[38;5;28;01mimport\u001b[39;00m\u001b[38;5;250m \u001b[39m\u001b[34;01mtransformers\u001b[39;00m\n\u001b[32m      4\u001b[39m \u001b[38;5;28;01mimport\u001b[39;00m\u001b[38;5;250m \u001b[39m\u001b[34;01msys\u001b[39;00m\n",
      "\u001b[31mModuleNotFoundError\u001b[39m: No module named 'torch'"
     ]
    }
   ],
   "source": [
    "# Test de l'environnement LLM\n",
    "import torch\n",
    "import transformers\n",
    "import sys\n",
    "import os\n",
    "\n",
    "print('🎉 Environnement LLM prêt avec Conda!')\n",
    "print(f'🏠 Environnement: {os.environ.get(\"CONDA_DEFAULT_ENV\", \"N/A\")}')\n",
    "print(f'🐍 Python: {sys.version.split()[0]}')\n",
    "print(f'✅ PyTorch: {torch.__version__}')\n",
    "print(f'✅ Transformers: {transformers.__version__}')\n",
    "print(f'💻 GPU disponible: {torch.cuda.is_available()}')\n",
    "\n",
    "if torch.cuda.is_available():\n",
    "    print(f'🚀 GPU: {torch.cuda.get_device_name(0)}')"
   ]
  },
  {
   "cell_type": "code",
   "execution_count": null,
   "id": "21369ae2-7574-4cda-9fe7-4172863db52b",
   "metadata": {},
   "outputs": [],
   "source": []
  }
 ],
 "metadata": {
  "kernelspec": {
   "display_name": "Python 3 (ipykernel)",
   "language": "python",
   "name": "python3"
  },
  "language_info": {
   "codemirror_mode": {
    "name": "ipython",
    "version": 3
   },
   "file_extension": ".py",
   "mimetype": "text/x-python",
   "name": "python",
   "nbconvert_exporter": "python",
   "pygments_lexer": "ipython3",
   "version": "3.13.5"
  }
 },
 "nbformat": 4,
 "nbformat_minor": 5
}
